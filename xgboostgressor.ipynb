{
 "cells": [
  {
   "cell_type": "code",
   "execution_count": 1,
   "id": "d6ea752f",
   "metadata": {
    "_cell_guid": "b1076dfc-b9ad-4769-8c92-a6c4dae69d19",
    "_uuid": "8f2839f25d086af736a60e9eeb907d3b93b6e0e5",
    "execution": {
     "iopub.execute_input": "2022-12-30T15:35:25.860627Z",
     "iopub.status.busy": "2022-12-30T15:35:25.859715Z",
     "iopub.status.idle": "2022-12-30T15:35:27.577910Z",
     "shell.execute_reply": "2022-12-30T15:35:27.576657Z"
    },
    "papermill": {
     "duration": 1.73015,
     "end_time": "2022-12-30T15:35:27.581002",
     "exception": false,
     "start_time": "2022-12-30T15:35:25.850852",
     "status": "completed"
    },
    "tags": []
   },
   "outputs": [],
   "source": [
    "import os\n",
    "import pandas as pd\n",
    "import numpy as np\n",
    "import matplotlib.pyplot as plt\n",
    "import seaborn as sns\n",
    "import missingno\n",
    "from sklearn.preprocessing import StandardScaler, MinMaxScaler\n",
    "from sklearn.model_selection import ShuffleSplit\n",
    "from sklearn.pipeline import Pipeline\n",
    "from sklearn.ensemble import RandomForestRegressor, GradientBoostingRegressor\n",
    "from scipy.stats import uniform, randint\n",
    "from sklearn.metrics import auc, accuracy_score, confusion_matrix, mean_squared_error\n",
    "from sklearn.model_selection import cross_val_score, GridSearchCV, KFold, RandomizedSearchCV, train_test_split\n",
    "import xgboost as xgb\n",
    "from sklearn.impute import SimpleImputer\n"
   ]
  },
  {
   "cell_type": "markdown",
   "id": "d1f80cfa",
   "metadata": {
    "papermill": {
     "duration": 0.005322,
     "end_time": "2022-12-30T15:35:27.592322",
     "exception": false,
     "start_time": "2022-12-30T15:35:27.587000",
     "status": "completed"
    },
    "tags": []
   },
   "source": [
    "# Load and view data"
   ]
  },
  {
   "cell_type": "code",
   "execution_count": 2,
   "id": "9e781387",
   "metadata": {
    "execution": {
     "iopub.execute_input": "2022-12-30T15:35:27.605646Z",
     "iopub.status.busy": "2022-12-30T15:35:27.605287Z",
     "iopub.status.idle": "2022-12-30T15:35:27.703743Z",
     "shell.execute_reply": "2022-12-30T15:35:27.702175Z"
    },
    "papermill": {
     "duration": 0.108724,
     "end_time": "2022-12-30T15:35:27.706673",
     "exception": false,
     "start_time": "2022-12-30T15:35:27.597949",
     "status": "completed"
    },
    "tags": []
   },
   "outputs": [
    {
     "data": {
      "text/html": [
       "<div>\n",
       "<style scoped>\n",
       "    .dataframe tbody tr th:only-of-type {\n",
       "        vertical-align: middle;\n",
       "    }\n",
       "\n",
       "    .dataframe tbody tr th {\n",
       "        vertical-align: top;\n",
       "    }\n",
       "\n",
       "    .dataframe thead th {\n",
       "        text-align: right;\n",
       "    }\n",
       "</style>\n",
       "<table border=\"1\" class=\"dataframe\">\n",
       "  <thead>\n",
       "    <tr style=\"text-align: right;\">\n",
       "      <th></th>\n",
       "      <th>Id</th>\n",
       "      <th>MSSubClass</th>\n",
       "      <th>MSZoning</th>\n",
       "      <th>LotFrontage</th>\n",
       "      <th>LotArea</th>\n",
       "      <th>Street</th>\n",
       "      <th>Alley</th>\n",
       "      <th>LotShape</th>\n",
       "      <th>LandContour</th>\n",
       "      <th>Utilities</th>\n",
       "      <th>...</th>\n",
       "      <th>PoolArea</th>\n",
       "      <th>PoolQC</th>\n",
       "      <th>Fence</th>\n",
       "      <th>MiscFeature</th>\n",
       "      <th>MiscVal</th>\n",
       "      <th>MoSold</th>\n",
       "      <th>YrSold</th>\n",
       "      <th>SaleType</th>\n",
       "      <th>SaleCondition</th>\n",
       "      <th>SalePrice</th>\n",
       "    </tr>\n",
       "  </thead>\n",
       "  <tbody>\n",
       "    <tr>\n",
       "      <th>0</th>\n",
       "      <td>1</td>\n",
       "      <td>60</td>\n",
       "      <td>RL</td>\n",
       "      <td>65.0</td>\n",
       "      <td>8450</td>\n",
       "      <td>Pave</td>\n",
       "      <td>NaN</td>\n",
       "      <td>Reg</td>\n",
       "      <td>Lvl</td>\n",
       "      <td>AllPub</td>\n",
       "      <td>...</td>\n",
       "      <td>0</td>\n",
       "      <td>NaN</td>\n",
       "      <td>NaN</td>\n",
       "      <td>NaN</td>\n",
       "      <td>0</td>\n",
       "      <td>2</td>\n",
       "      <td>2008</td>\n",
       "      <td>WD</td>\n",
       "      <td>Normal</td>\n",
       "      <td>208500</td>\n",
       "    </tr>\n",
       "    <tr>\n",
       "      <th>1</th>\n",
       "      <td>2</td>\n",
       "      <td>20</td>\n",
       "      <td>RL</td>\n",
       "      <td>80.0</td>\n",
       "      <td>9600</td>\n",
       "      <td>Pave</td>\n",
       "      <td>NaN</td>\n",
       "      <td>Reg</td>\n",
       "      <td>Lvl</td>\n",
       "      <td>AllPub</td>\n",
       "      <td>...</td>\n",
       "      <td>0</td>\n",
       "      <td>NaN</td>\n",
       "      <td>NaN</td>\n",
       "      <td>NaN</td>\n",
       "      <td>0</td>\n",
       "      <td>5</td>\n",
       "      <td>2007</td>\n",
       "      <td>WD</td>\n",
       "      <td>Normal</td>\n",
       "      <td>181500</td>\n",
       "    </tr>\n",
       "    <tr>\n",
       "      <th>2</th>\n",
       "      <td>3</td>\n",
       "      <td>60</td>\n",
       "      <td>RL</td>\n",
       "      <td>68.0</td>\n",
       "      <td>11250</td>\n",
       "      <td>Pave</td>\n",
       "      <td>NaN</td>\n",
       "      <td>IR1</td>\n",
       "      <td>Lvl</td>\n",
       "      <td>AllPub</td>\n",
       "      <td>...</td>\n",
       "      <td>0</td>\n",
       "      <td>NaN</td>\n",
       "      <td>NaN</td>\n",
       "      <td>NaN</td>\n",
       "      <td>0</td>\n",
       "      <td>9</td>\n",
       "      <td>2008</td>\n",
       "      <td>WD</td>\n",
       "      <td>Normal</td>\n",
       "      <td>223500</td>\n",
       "    </tr>\n",
       "    <tr>\n",
       "      <th>3</th>\n",
       "      <td>4</td>\n",
       "      <td>70</td>\n",
       "      <td>RL</td>\n",
       "      <td>60.0</td>\n",
       "      <td>9550</td>\n",
       "      <td>Pave</td>\n",
       "      <td>NaN</td>\n",
       "      <td>IR1</td>\n",
       "      <td>Lvl</td>\n",
       "      <td>AllPub</td>\n",
       "      <td>...</td>\n",
       "      <td>0</td>\n",
       "      <td>NaN</td>\n",
       "      <td>NaN</td>\n",
       "      <td>NaN</td>\n",
       "      <td>0</td>\n",
       "      <td>2</td>\n",
       "      <td>2006</td>\n",
       "      <td>WD</td>\n",
       "      <td>Abnorml</td>\n",
       "      <td>140000</td>\n",
       "    </tr>\n",
       "    <tr>\n",
       "      <th>4</th>\n",
       "      <td>5</td>\n",
       "      <td>60</td>\n",
       "      <td>RL</td>\n",
       "      <td>84.0</td>\n",
       "      <td>14260</td>\n",
       "      <td>Pave</td>\n",
       "      <td>NaN</td>\n",
       "      <td>IR1</td>\n",
       "      <td>Lvl</td>\n",
       "      <td>AllPub</td>\n",
       "      <td>...</td>\n",
       "      <td>0</td>\n",
       "      <td>NaN</td>\n",
       "      <td>NaN</td>\n",
       "      <td>NaN</td>\n",
       "      <td>0</td>\n",
       "      <td>12</td>\n",
       "      <td>2008</td>\n",
       "      <td>WD</td>\n",
       "      <td>Normal</td>\n",
       "      <td>250000</td>\n",
       "    </tr>\n",
       "    <tr>\n",
       "      <th>5</th>\n",
       "      <td>6</td>\n",
       "      <td>50</td>\n",
       "      <td>RL</td>\n",
       "      <td>85.0</td>\n",
       "      <td>14115</td>\n",
       "      <td>Pave</td>\n",
       "      <td>NaN</td>\n",
       "      <td>IR1</td>\n",
       "      <td>Lvl</td>\n",
       "      <td>AllPub</td>\n",
       "      <td>...</td>\n",
       "      <td>0</td>\n",
       "      <td>NaN</td>\n",
       "      <td>MnPrv</td>\n",
       "      <td>Shed</td>\n",
       "      <td>700</td>\n",
       "      <td>10</td>\n",
       "      <td>2009</td>\n",
       "      <td>WD</td>\n",
       "      <td>Normal</td>\n",
       "      <td>143000</td>\n",
       "    </tr>\n",
       "    <tr>\n",
       "      <th>6</th>\n",
       "      <td>7</td>\n",
       "      <td>20</td>\n",
       "      <td>RL</td>\n",
       "      <td>75.0</td>\n",
       "      <td>10084</td>\n",
       "      <td>Pave</td>\n",
       "      <td>NaN</td>\n",
       "      <td>Reg</td>\n",
       "      <td>Lvl</td>\n",
       "      <td>AllPub</td>\n",
       "      <td>...</td>\n",
       "      <td>0</td>\n",
       "      <td>NaN</td>\n",
       "      <td>NaN</td>\n",
       "      <td>NaN</td>\n",
       "      <td>0</td>\n",
       "      <td>8</td>\n",
       "      <td>2007</td>\n",
       "      <td>WD</td>\n",
       "      <td>Normal</td>\n",
       "      <td>307000</td>\n",
       "    </tr>\n",
       "    <tr>\n",
       "      <th>7</th>\n",
       "      <td>8</td>\n",
       "      <td>60</td>\n",
       "      <td>RL</td>\n",
       "      <td>NaN</td>\n",
       "      <td>10382</td>\n",
       "      <td>Pave</td>\n",
       "      <td>NaN</td>\n",
       "      <td>IR1</td>\n",
       "      <td>Lvl</td>\n",
       "      <td>AllPub</td>\n",
       "      <td>...</td>\n",
       "      <td>0</td>\n",
       "      <td>NaN</td>\n",
       "      <td>NaN</td>\n",
       "      <td>Shed</td>\n",
       "      <td>350</td>\n",
       "      <td>11</td>\n",
       "      <td>2009</td>\n",
       "      <td>WD</td>\n",
       "      <td>Normal</td>\n",
       "      <td>200000</td>\n",
       "    </tr>\n",
       "    <tr>\n",
       "      <th>8</th>\n",
       "      <td>9</td>\n",
       "      <td>50</td>\n",
       "      <td>RM</td>\n",
       "      <td>51.0</td>\n",
       "      <td>6120</td>\n",
       "      <td>Pave</td>\n",
       "      <td>NaN</td>\n",
       "      <td>Reg</td>\n",
       "      <td>Lvl</td>\n",
       "      <td>AllPub</td>\n",
       "      <td>...</td>\n",
       "      <td>0</td>\n",
       "      <td>NaN</td>\n",
       "      <td>NaN</td>\n",
       "      <td>NaN</td>\n",
       "      <td>0</td>\n",
       "      <td>4</td>\n",
       "      <td>2008</td>\n",
       "      <td>WD</td>\n",
       "      <td>Abnorml</td>\n",
       "      <td>129900</td>\n",
       "    </tr>\n",
       "    <tr>\n",
       "      <th>9</th>\n",
       "      <td>10</td>\n",
       "      <td>190</td>\n",
       "      <td>RL</td>\n",
       "      <td>50.0</td>\n",
       "      <td>7420</td>\n",
       "      <td>Pave</td>\n",
       "      <td>NaN</td>\n",
       "      <td>Reg</td>\n",
       "      <td>Lvl</td>\n",
       "      <td>AllPub</td>\n",
       "      <td>...</td>\n",
       "      <td>0</td>\n",
       "      <td>NaN</td>\n",
       "      <td>NaN</td>\n",
       "      <td>NaN</td>\n",
       "      <td>0</td>\n",
       "      <td>1</td>\n",
       "      <td>2008</td>\n",
       "      <td>WD</td>\n",
       "      <td>Normal</td>\n",
       "      <td>118000</td>\n",
       "    </tr>\n",
       "  </tbody>\n",
       "</table>\n",
       "<p>10 rows × 81 columns</p>\n",
       "</div>"
      ],
      "text/plain": [
       "   Id  MSSubClass MSZoning  LotFrontage  LotArea Street Alley LotShape  \\\n",
       "0   1          60       RL         65.0     8450   Pave   NaN      Reg   \n",
       "1   2          20       RL         80.0     9600   Pave   NaN      Reg   \n",
       "2   3          60       RL         68.0    11250   Pave   NaN      IR1   \n",
       "3   4          70       RL         60.0     9550   Pave   NaN      IR1   \n",
       "4   5          60       RL         84.0    14260   Pave   NaN      IR1   \n",
       "5   6          50       RL         85.0    14115   Pave   NaN      IR1   \n",
       "6   7          20       RL         75.0    10084   Pave   NaN      Reg   \n",
       "7   8          60       RL          NaN    10382   Pave   NaN      IR1   \n",
       "8   9          50       RM         51.0     6120   Pave   NaN      Reg   \n",
       "9  10         190       RL         50.0     7420   Pave   NaN      Reg   \n",
       "\n",
       "  LandContour Utilities  ... PoolArea PoolQC  Fence MiscFeature MiscVal  \\\n",
       "0         Lvl    AllPub  ...        0    NaN    NaN         NaN       0   \n",
       "1         Lvl    AllPub  ...        0    NaN    NaN         NaN       0   \n",
       "2         Lvl    AllPub  ...        0    NaN    NaN         NaN       0   \n",
       "3         Lvl    AllPub  ...        0    NaN    NaN         NaN       0   \n",
       "4         Lvl    AllPub  ...        0    NaN    NaN         NaN       0   \n",
       "5         Lvl    AllPub  ...        0    NaN  MnPrv        Shed     700   \n",
       "6         Lvl    AllPub  ...        0    NaN    NaN         NaN       0   \n",
       "7         Lvl    AllPub  ...        0    NaN    NaN        Shed     350   \n",
       "8         Lvl    AllPub  ...        0    NaN    NaN         NaN       0   \n",
       "9         Lvl    AllPub  ...        0    NaN    NaN         NaN       0   \n",
       "\n",
       "  MoSold YrSold  SaleType  SaleCondition  SalePrice  \n",
       "0      2   2008        WD         Normal     208500  \n",
       "1      5   2007        WD         Normal     181500  \n",
       "2      9   2008        WD         Normal     223500  \n",
       "3      2   2006        WD        Abnorml     140000  \n",
       "4     12   2008        WD         Normal     250000  \n",
       "5     10   2009        WD         Normal     143000  \n",
       "6      8   2007        WD         Normal     307000  \n",
       "7     11   2009        WD         Normal     200000  \n",
       "8      4   2008        WD        Abnorml     129900  \n",
       "9      1   2008        WD         Normal     118000  \n",
       "\n",
       "[10 rows x 81 columns]"
      ]
     },
     "execution_count": 2,
     "metadata": {},
     "output_type": "execute_result"
    }
   ],
   "source": [
    "data = pd.read_csv(\"../input/house-prices-advanced-regression-techniques/train.csv\")\n",
    "test = pd.read_csv(\"../input/house-prices-advanced-regression-techniques/test.csv\")\n",
    "data.head(10)\n"
   ]
  },
  {
   "cell_type": "code",
   "execution_count": 3,
   "id": "372f2dbf",
   "metadata": {
    "execution": {
     "iopub.execute_input": "2022-12-30T15:35:27.721273Z",
     "iopub.status.busy": "2022-12-30T15:35:27.720902Z",
     "iopub.status.idle": "2022-12-30T15:35:27.735167Z",
     "shell.execute_reply": "2022-12-30T15:35:27.733817Z"
    },
    "papermill": {
     "duration": 0.024088,
     "end_time": "2022-12-30T15:35:27.737331",
     "exception": false,
     "start_time": "2022-12-30T15:35:27.713243",
     "status": "completed"
    },
    "tags": []
   },
   "outputs": [],
   "source": [
    "# Separate features from target \n",
    "y = data['SalePrice']\n",
    "data.drop(columns=['SalePrice'], inplace=True)"
   ]
  },
  {
   "cell_type": "code",
   "execution_count": 4,
   "id": "affd321b",
   "metadata": {
    "execution": {
     "iopub.execute_input": "2022-12-30T15:35:27.751007Z",
     "iopub.status.busy": "2022-12-30T15:35:27.750609Z",
     "iopub.status.idle": "2022-12-30T15:35:27.839498Z",
     "shell.execute_reply": "2022-12-30T15:35:27.838230Z"
    },
    "papermill": {
     "duration": 0.098282,
     "end_time": "2022-12-30T15:35:27.841690",
     "exception": false,
     "start_time": "2022-12-30T15:35:27.743408",
     "status": "completed"
    },
    "tags": []
   },
   "outputs": [
    {
     "data": {
      "text/html": [
       "<div>\n",
       "<style scoped>\n",
       "    .dataframe tbody tr th:only-of-type {\n",
       "        vertical-align: middle;\n",
       "    }\n",
       "\n",
       "    .dataframe tbody tr th {\n",
       "        vertical-align: top;\n",
       "    }\n",
       "\n",
       "    .dataframe thead th {\n",
       "        text-align: right;\n",
       "    }\n",
       "</style>\n",
       "<table border=\"1\" class=\"dataframe\">\n",
       "  <thead>\n",
       "    <tr style=\"text-align: right;\">\n",
       "      <th></th>\n",
       "      <th>Id</th>\n",
       "      <th>MSSubClass</th>\n",
       "      <th>LotFrontage</th>\n",
       "      <th>LotArea</th>\n",
       "      <th>OverallQual</th>\n",
       "      <th>OverallCond</th>\n",
       "      <th>YearBuilt</th>\n",
       "      <th>YearRemodAdd</th>\n",
       "      <th>MasVnrArea</th>\n",
       "      <th>BsmtFinSF1</th>\n",
       "      <th>...</th>\n",
       "      <th>GarageArea</th>\n",
       "      <th>WoodDeckSF</th>\n",
       "      <th>OpenPorchSF</th>\n",
       "      <th>EnclosedPorch</th>\n",
       "      <th>3SsnPorch</th>\n",
       "      <th>ScreenPorch</th>\n",
       "      <th>PoolArea</th>\n",
       "      <th>MiscVal</th>\n",
       "      <th>MoSold</th>\n",
       "      <th>YrSold</th>\n",
       "    </tr>\n",
       "  </thead>\n",
       "  <tbody>\n",
       "    <tr>\n",
       "      <th>count</th>\n",
       "      <td>1460.000000</td>\n",
       "      <td>1460.000000</td>\n",
       "      <td>1201.000000</td>\n",
       "      <td>1460.000000</td>\n",
       "      <td>1460.000000</td>\n",
       "      <td>1460.000000</td>\n",
       "      <td>1460.000000</td>\n",
       "      <td>1460.000000</td>\n",
       "      <td>1452.000000</td>\n",
       "      <td>1460.000000</td>\n",
       "      <td>...</td>\n",
       "      <td>1460.000000</td>\n",
       "      <td>1460.000000</td>\n",
       "      <td>1460.000000</td>\n",
       "      <td>1460.000000</td>\n",
       "      <td>1460.000000</td>\n",
       "      <td>1460.000000</td>\n",
       "      <td>1460.000000</td>\n",
       "      <td>1460.000000</td>\n",
       "      <td>1460.000000</td>\n",
       "      <td>1460.000000</td>\n",
       "    </tr>\n",
       "    <tr>\n",
       "      <th>mean</th>\n",
       "      <td>730.500000</td>\n",
       "      <td>56.897260</td>\n",
       "      <td>70.049958</td>\n",
       "      <td>10516.828082</td>\n",
       "      <td>6.099315</td>\n",
       "      <td>5.575342</td>\n",
       "      <td>1971.267808</td>\n",
       "      <td>1984.865753</td>\n",
       "      <td>103.685262</td>\n",
       "      <td>443.639726</td>\n",
       "      <td>...</td>\n",
       "      <td>472.980137</td>\n",
       "      <td>94.244521</td>\n",
       "      <td>46.660274</td>\n",
       "      <td>21.954110</td>\n",
       "      <td>3.409589</td>\n",
       "      <td>15.060959</td>\n",
       "      <td>2.758904</td>\n",
       "      <td>43.489041</td>\n",
       "      <td>6.321918</td>\n",
       "      <td>2007.815753</td>\n",
       "    </tr>\n",
       "    <tr>\n",
       "      <th>std</th>\n",
       "      <td>421.610009</td>\n",
       "      <td>42.300571</td>\n",
       "      <td>24.284752</td>\n",
       "      <td>9981.264932</td>\n",
       "      <td>1.382997</td>\n",
       "      <td>1.112799</td>\n",
       "      <td>30.202904</td>\n",
       "      <td>20.645407</td>\n",
       "      <td>181.066207</td>\n",
       "      <td>456.098091</td>\n",
       "      <td>...</td>\n",
       "      <td>213.804841</td>\n",
       "      <td>125.338794</td>\n",
       "      <td>66.256028</td>\n",
       "      <td>61.119149</td>\n",
       "      <td>29.317331</td>\n",
       "      <td>55.757415</td>\n",
       "      <td>40.177307</td>\n",
       "      <td>496.123024</td>\n",
       "      <td>2.703626</td>\n",
       "      <td>1.328095</td>\n",
       "    </tr>\n",
       "    <tr>\n",
       "      <th>min</th>\n",
       "      <td>1.000000</td>\n",
       "      <td>20.000000</td>\n",
       "      <td>21.000000</td>\n",
       "      <td>1300.000000</td>\n",
       "      <td>1.000000</td>\n",
       "      <td>1.000000</td>\n",
       "      <td>1872.000000</td>\n",
       "      <td>1950.000000</td>\n",
       "      <td>0.000000</td>\n",
       "      <td>0.000000</td>\n",
       "      <td>...</td>\n",
       "      <td>0.000000</td>\n",
       "      <td>0.000000</td>\n",
       "      <td>0.000000</td>\n",
       "      <td>0.000000</td>\n",
       "      <td>0.000000</td>\n",
       "      <td>0.000000</td>\n",
       "      <td>0.000000</td>\n",
       "      <td>0.000000</td>\n",
       "      <td>1.000000</td>\n",
       "      <td>2006.000000</td>\n",
       "    </tr>\n",
       "    <tr>\n",
       "      <th>25%</th>\n",
       "      <td>365.750000</td>\n",
       "      <td>20.000000</td>\n",
       "      <td>59.000000</td>\n",
       "      <td>7553.500000</td>\n",
       "      <td>5.000000</td>\n",
       "      <td>5.000000</td>\n",
       "      <td>1954.000000</td>\n",
       "      <td>1967.000000</td>\n",
       "      <td>0.000000</td>\n",
       "      <td>0.000000</td>\n",
       "      <td>...</td>\n",
       "      <td>334.500000</td>\n",
       "      <td>0.000000</td>\n",
       "      <td>0.000000</td>\n",
       "      <td>0.000000</td>\n",
       "      <td>0.000000</td>\n",
       "      <td>0.000000</td>\n",
       "      <td>0.000000</td>\n",
       "      <td>0.000000</td>\n",
       "      <td>5.000000</td>\n",
       "      <td>2007.000000</td>\n",
       "    </tr>\n",
       "    <tr>\n",
       "      <th>50%</th>\n",
       "      <td>730.500000</td>\n",
       "      <td>50.000000</td>\n",
       "      <td>69.000000</td>\n",
       "      <td>9478.500000</td>\n",
       "      <td>6.000000</td>\n",
       "      <td>5.000000</td>\n",
       "      <td>1973.000000</td>\n",
       "      <td>1994.000000</td>\n",
       "      <td>0.000000</td>\n",
       "      <td>383.500000</td>\n",
       "      <td>...</td>\n",
       "      <td>480.000000</td>\n",
       "      <td>0.000000</td>\n",
       "      <td>25.000000</td>\n",
       "      <td>0.000000</td>\n",
       "      <td>0.000000</td>\n",
       "      <td>0.000000</td>\n",
       "      <td>0.000000</td>\n",
       "      <td>0.000000</td>\n",
       "      <td>6.000000</td>\n",
       "      <td>2008.000000</td>\n",
       "    </tr>\n",
       "    <tr>\n",
       "      <th>75%</th>\n",
       "      <td>1095.250000</td>\n",
       "      <td>70.000000</td>\n",
       "      <td>80.000000</td>\n",
       "      <td>11601.500000</td>\n",
       "      <td>7.000000</td>\n",
       "      <td>6.000000</td>\n",
       "      <td>2000.000000</td>\n",
       "      <td>2004.000000</td>\n",
       "      <td>166.000000</td>\n",
       "      <td>712.250000</td>\n",
       "      <td>...</td>\n",
       "      <td>576.000000</td>\n",
       "      <td>168.000000</td>\n",
       "      <td>68.000000</td>\n",
       "      <td>0.000000</td>\n",
       "      <td>0.000000</td>\n",
       "      <td>0.000000</td>\n",
       "      <td>0.000000</td>\n",
       "      <td>0.000000</td>\n",
       "      <td>8.000000</td>\n",
       "      <td>2009.000000</td>\n",
       "    </tr>\n",
       "    <tr>\n",
       "      <th>max</th>\n",
       "      <td>1460.000000</td>\n",
       "      <td>190.000000</td>\n",
       "      <td>313.000000</td>\n",
       "      <td>215245.000000</td>\n",
       "      <td>10.000000</td>\n",
       "      <td>9.000000</td>\n",
       "      <td>2010.000000</td>\n",
       "      <td>2010.000000</td>\n",
       "      <td>1600.000000</td>\n",
       "      <td>5644.000000</td>\n",
       "      <td>...</td>\n",
       "      <td>1418.000000</td>\n",
       "      <td>857.000000</td>\n",
       "      <td>547.000000</td>\n",
       "      <td>552.000000</td>\n",
       "      <td>508.000000</td>\n",
       "      <td>480.000000</td>\n",
       "      <td>738.000000</td>\n",
       "      <td>15500.000000</td>\n",
       "      <td>12.000000</td>\n",
       "      <td>2010.000000</td>\n",
       "    </tr>\n",
       "  </tbody>\n",
       "</table>\n",
       "<p>8 rows × 37 columns</p>\n",
       "</div>"
      ],
      "text/plain": [
       "                Id   MSSubClass  LotFrontage        LotArea  OverallQual  \\\n",
       "count  1460.000000  1460.000000  1201.000000    1460.000000  1460.000000   \n",
       "mean    730.500000    56.897260    70.049958   10516.828082     6.099315   \n",
       "std     421.610009    42.300571    24.284752    9981.264932     1.382997   \n",
       "min       1.000000    20.000000    21.000000    1300.000000     1.000000   \n",
       "25%     365.750000    20.000000    59.000000    7553.500000     5.000000   \n",
       "50%     730.500000    50.000000    69.000000    9478.500000     6.000000   \n",
       "75%    1095.250000    70.000000    80.000000   11601.500000     7.000000   \n",
       "max    1460.000000   190.000000   313.000000  215245.000000    10.000000   \n",
       "\n",
       "       OverallCond    YearBuilt  YearRemodAdd   MasVnrArea   BsmtFinSF1  ...  \\\n",
       "count  1460.000000  1460.000000   1460.000000  1452.000000  1460.000000  ...   \n",
       "mean      5.575342  1971.267808   1984.865753   103.685262   443.639726  ...   \n",
       "std       1.112799    30.202904     20.645407   181.066207   456.098091  ...   \n",
       "min       1.000000  1872.000000   1950.000000     0.000000     0.000000  ...   \n",
       "25%       5.000000  1954.000000   1967.000000     0.000000     0.000000  ...   \n",
       "50%       5.000000  1973.000000   1994.000000     0.000000   383.500000  ...   \n",
       "75%       6.000000  2000.000000   2004.000000   166.000000   712.250000  ...   \n",
       "max       9.000000  2010.000000   2010.000000  1600.000000  5644.000000  ...   \n",
       "\n",
       "        GarageArea   WoodDeckSF  OpenPorchSF  EnclosedPorch    3SsnPorch  \\\n",
       "count  1460.000000  1460.000000  1460.000000    1460.000000  1460.000000   \n",
       "mean    472.980137    94.244521    46.660274      21.954110     3.409589   \n",
       "std     213.804841   125.338794    66.256028      61.119149    29.317331   \n",
       "min       0.000000     0.000000     0.000000       0.000000     0.000000   \n",
       "25%     334.500000     0.000000     0.000000       0.000000     0.000000   \n",
       "50%     480.000000     0.000000    25.000000       0.000000     0.000000   \n",
       "75%     576.000000   168.000000    68.000000       0.000000     0.000000   \n",
       "max    1418.000000   857.000000   547.000000     552.000000   508.000000   \n",
       "\n",
       "       ScreenPorch     PoolArea       MiscVal       MoSold       YrSold  \n",
       "count  1460.000000  1460.000000   1460.000000  1460.000000  1460.000000  \n",
       "mean     15.060959     2.758904     43.489041     6.321918  2007.815753  \n",
       "std      55.757415    40.177307    496.123024     2.703626     1.328095  \n",
       "min       0.000000     0.000000      0.000000     1.000000  2006.000000  \n",
       "25%       0.000000     0.000000      0.000000     5.000000  2007.000000  \n",
       "50%       0.000000     0.000000      0.000000     6.000000  2008.000000  \n",
       "75%       0.000000     0.000000      0.000000     8.000000  2009.000000  \n",
       "max     480.000000   738.000000  15500.000000    12.000000  2010.000000  \n",
       "\n",
       "[8 rows x 37 columns]"
      ]
     },
     "execution_count": 4,
     "metadata": {},
     "output_type": "execute_result"
    }
   ],
   "source": [
    "data.describe()"
   ]
  },
  {
   "cell_type": "code",
   "execution_count": 5,
   "id": "525d32ac",
   "metadata": {
    "execution": {
     "iopub.execute_input": "2022-12-30T15:35:27.856352Z",
     "iopub.status.busy": "2022-12-30T15:35:27.855993Z",
     "iopub.status.idle": "2022-12-30T15:35:27.880178Z",
     "shell.execute_reply": "2022-12-30T15:35:27.878381Z"
    },
    "papermill": {
     "duration": 0.034769,
     "end_time": "2022-12-30T15:35:27.883042",
     "exception": false,
     "start_time": "2022-12-30T15:35:27.848273",
     "status": "completed"
    },
    "tags": []
   },
   "outputs": [
    {
     "name": "stdout",
     "output_type": "stream",
     "text": [
      "<class 'pandas.core.frame.DataFrame'>\n",
      "RangeIndex: 1460 entries, 0 to 1459\n",
      "Data columns (total 80 columns):\n",
      " #   Column         Non-Null Count  Dtype  \n",
      "---  ------         --------------  -----  \n",
      " 0   Id             1460 non-null   int64  \n",
      " 1   MSSubClass     1460 non-null   int64  \n",
      " 2   MSZoning       1460 non-null   object \n",
      " 3   LotFrontage    1201 non-null   float64\n",
      " 4   LotArea        1460 non-null   int64  \n",
      " 5   Street         1460 non-null   object \n",
      " 6   Alley          91 non-null     object \n",
      " 7   LotShape       1460 non-null   object \n",
      " 8   LandContour    1460 non-null   object \n",
      " 9   Utilities      1460 non-null   object \n",
      " 10  LotConfig      1460 non-null   object \n",
      " 11  LandSlope      1460 non-null   object \n",
      " 12  Neighborhood   1460 non-null   object \n",
      " 13  Condition1     1460 non-null   object \n",
      " 14  Condition2     1460 non-null   object \n",
      " 15  BldgType       1460 non-null   object \n",
      " 16  HouseStyle     1460 non-null   object \n",
      " 17  OverallQual    1460 non-null   int64  \n",
      " 18  OverallCond    1460 non-null   int64  \n",
      " 19  YearBuilt      1460 non-null   int64  \n",
      " 20  YearRemodAdd   1460 non-null   int64  \n",
      " 21  RoofStyle      1460 non-null   object \n",
      " 22  RoofMatl       1460 non-null   object \n",
      " 23  Exterior1st    1460 non-null   object \n",
      " 24  Exterior2nd    1460 non-null   object \n",
      " 25  MasVnrType     1452 non-null   object \n",
      " 26  MasVnrArea     1452 non-null   float64\n",
      " 27  ExterQual      1460 non-null   object \n",
      " 28  ExterCond      1460 non-null   object \n",
      " 29  Foundation     1460 non-null   object \n",
      " 30  BsmtQual       1423 non-null   object \n",
      " 31  BsmtCond       1423 non-null   object \n",
      " 32  BsmtExposure   1422 non-null   object \n",
      " 33  BsmtFinType1   1423 non-null   object \n",
      " 34  BsmtFinSF1     1460 non-null   int64  \n",
      " 35  BsmtFinType2   1422 non-null   object \n",
      " 36  BsmtFinSF2     1460 non-null   int64  \n",
      " 37  BsmtUnfSF      1460 non-null   int64  \n",
      " 38  TotalBsmtSF    1460 non-null   int64  \n",
      " 39  Heating        1460 non-null   object \n",
      " 40  HeatingQC      1460 non-null   object \n",
      " 41  CentralAir     1460 non-null   object \n",
      " 42  Electrical     1459 non-null   object \n",
      " 43  1stFlrSF       1460 non-null   int64  \n",
      " 44  2ndFlrSF       1460 non-null   int64  \n",
      " 45  LowQualFinSF   1460 non-null   int64  \n",
      " 46  GrLivArea      1460 non-null   int64  \n",
      " 47  BsmtFullBath   1460 non-null   int64  \n",
      " 48  BsmtHalfBath   1460 non-null   int64  \n",
      " 49  FullBath       1460 non-null   int64  \n",
      " 50  HalfBath       1460 non-null   int64  \n",
      " 51  BedroomAbvGr   1460 non-null   int64  \n",
      " 52  KitchenAbvGr   1460 non-null   int64  \n",
      " 53  KitchenQual    1460 non-null   object \n",
      " 54  TotRmsAbvGrd   1460 non-null   int64  \n",
      " 55  Functional     1460 non-null   object \n",
      " 56  Fireplaces     1460 non-null   int64  \n",
      " 57  FireplaceQu    770 non-null    object \n",
      " 58  GarageType     1379 non-null   object \n",
      " 59  GarageYrBlt    1379 non-null   float64\n",
      " 60  GarageFinish   1379 non-null   object \n",
      " 61  GarageCars     1460 non-null   int64  \n",
      " 62  GarageArea     1460 non-null   int64  \n",
      " 63  GarageQual     1379 non-null   object \n",
      " 64  GarageCond     1379 non-null   object \n",
      " 65  PavedDrive     1460 non-null   object \n",
      " 66  WoodDeckSF     1460 non-null   int64  \n",
      " 67  OpenPorchSF    1460 non-null   int64  \n",
      " 68  EnclosedPorch  1460 non-null   int64  \n",
      " 69  3SsnPorch      1460 non-null   int64  \n",
      " 70  ScreenPorch    1460 non-null   int64  \n",
      " 71  PoolArea       1460 non-null   int64  \n",
      " 72  PoolQC         7 non-null      object \n",
      " 73  Fence          281 non-null    object \n",
      " 74  MiscFeature    54 non-null     object \n",
      " 75  MiscVal        1460 non-null   int64  \n",
      " 76  MoSold         1460 non-null   int64  \n",
      " 77  YrSold         1460 non-null   int64  \n",
      " 78  SaleType       1460 non-null   object \n",
      " 79  SaleCondition  1460 non-null   object \n",
      "dtypes: float64(3), int64(34), object(43)\n",
      "memory usage: 912.6+ KB\n"
     ]
    }
   ],
   "source": [
    "data.info()"
   ]
  },
  {
   "cell_type": "markdown",
   "id": "975d664c",
   "metadata": {
    "papermill": {
     "duration": 0.006453,
     "end_time": "2022-12-30T15:35:27.896909",
     "exception": false,
     "start_time": "2022-12-30T15:35:27.890456",
     "status": "completed"
    },
    "tags": []
   },
   "source": [
    "# Missing data"
   ]
  },
  {
   "cell_type": "code",
   "execution_count": 6,
   "id": "5c72d0b2",
   "metadata": {
    "execution": {
     "iopub.execute_input": "2022-12-30T15:35:27.914260Z",
     "iopub.status.busy": "2022-12-30T15:35:27.913208Z",
     "iopub.status.idle": "2022-12-30T15:35:28.371598Z",
     "shell.execute_reply": "2022-12-30T15:35:28.369918Z"
    },
    "papermill": {
     "duration": 0.470505,
     "end_time": "2022-12-30T15:35:28.374147",
     "exception": false,
     "start_time": "2022-12-30T15:35:27.903642",
     "status": "completed"
    },
    "tags": []
   },
   "outputs": [
    {
     "data": {
      "text/plain": [
       "<AxesSubplot:>"
      ]
     },
     "execution_count": 6,
     "metadata": {},
     "output_type": "execute_result"
    },
    {
     "data": {
      "image/png": "[encoded data removed]",
      "text/plain": [
       "<Figure size 1800x720 with 2 Axes>"
      ]
     },
     "metadata": {
      "needs_background": "light"
     },
     "output_type": "display_data"
    }
   ],
   "source": [
    "missingno.matrix(data)"
   ]
  },
  {
   "cell_type": "code",
   "execution_count": 7,
   "id": "de0ce745",
   "metadata": {
    "execution": {
     "iopub.execute_input": "2022-12-30T15:35:28.391821Z",
     "iopub.status.busy": "2022-12-30T15:35:28.391328Z",
     "iopub.status.idle": "2022-12-30T15:35:28.406030Z",
     "shell.execute_reply": "2022-12-30T15:35:28.405026Z"
    },
    "papermill": {
     "duration": 0.026557,
     "end_time": "2022-12-30T15:35:28.408410",
     "exception": false,
     "start_time": "2022-12-30T15:35:28.381853",
     "status": "completed"
    },
    "tags": []
   },
   "outputs": [
    {
     "data": {
      "text/plain": [
       "PoolQC         99.520548\n",
       "MiscFeature    96.301370\n",
       "Alley          93.767123\n",
       "Fence          80.753425\n",
       "FireplaceQu    47.260274\n",
       "LotFrontage    17.739726\n",
       "GarageType      5.547945\n",
       "GarageYrBlt     5.547945\n",
       "GarageQual      5.547945\n",
       "GarageCond      5.547945\n",
       "dtype: float64"
      ]
     },
     "execution_count": 7,
     "metadata": {},
     "output_type": "execute_result"
    }
   ],
   "source": [
    "missing_values = data.isnull().mean() * 100\n",
    "missing_values.sort_values(ascending=False).head(10)"
   ]
  },
  {
   "cell_type": "code",
   "execution_count": 8,
   "id": "f8bf53d1",
   "metadata": {
    "execution": {
     "iopub.execute_input": "2022-12-30T15:35:28.425911Z",
     "iopub.status.busy": "2022-12-30T15:35:28.425500Z",
     "iopub.status.idle": "2022-12-30T15:35:28.432893Z",
     "shell.execute_reply": "2022-12-30T15:35:28.431746Z"
    },
    "papermill": {
     "duration": 0.018354,
     "end_time": "2022-12-30T15:35:28.434957",
     "exception": false,
     "start_time": "2022-12-30T15:35:28.416603",
     "status": "completed"
    },
    "tags": []
   },
   "outputs": [],
   "source": [
    "# Drop 'Id' and features with more than 50% of missing values \n",
    "data.drop(columns=['Alley', 'Fence', 'PoolQC', 'MiscFeature', 'FireplaceQu', 'Id'], inplace=True)"
   ]
  },
  {
   "cell_type": "markdown",
   "id": "d93d4d90",
   "metadata": {
    "papermill": {
     "duration": 0.007219,
     "end_time": "2022-12-30T15:35:28.449572",
     "exception": false,
     "start_time": "2022-12-30T15:35:28.442353",
     "status": "completed"
    },
    "tags": []
   },
   "source": [
    "# Correlation"
   ]
  },
  {
   "cell_type": "code",
   "execution_count": 9,
   "id": "381bfab9",
   "metadata": {
    "execution": {
     "iopub.execute_input": "2022-12-30T15:35:28.466711Z",
     "iopub.status.busy": "2022-12-30T15:35:28.466222Z",
     "iopub.status.idle": "2022-12-30T15:35:29.255396Z",
     "shell.execute_reply": "2022-12-30T15:35:29.254498Z"
    },
    "papermill": {
     "duration": 0.800238,
     "end_time": "2022-12-30T15:35:29.257205",
     "exception": false,
     "start_time": "2022-12-30T15:35:28.456967",
     "status": "completed"
    },
    "tags": []
   },
   "outputs": [
    {
     "data": {
      "text/plain": [
       "<AxesSubplot:>"
      ]
     },
     "execution_count": 9,
     "metadata": {},
     "output_type": "execute_result"
    },
    {
     "data": {
      "image/png": "[encoded data removed]",
      "text/plain": [
       "<Figure size 1008x720 with 2 Axes>"
      ]
     },
     "metadata": {
      "needs_background": "light"
     },
     "output_type": "display_data"
    }
   ],
   "source": [
    "# Heat map\n",
    "fig = plt.figure(figsize=(14, 10))\n",
    "sns.heatmap(data.corr(), cmap='crest')"
   ]
  },
  {
   "cell_type": "code",
   "execution_count": 10,
   "id": "bc880346",
   "metadata": {
    "execution": {
     "iopub.execute_input": "2022-12-30T15:35:29.275094Z",
     "iopub.status.busy": "2022-12-30T15:35:29.274727Z",
     "iopub.status.idle": "2022-12-30T15:35:30.012521Z",
     "shell.execute_reply": "2022-12-30T15:35:30.011272Z"
    },
    "papermill": {
     "duration": 0.749085,
     "end_time": "2022-12-30T15:35:30.014391",
     "exception": false,
     "start_time": "2022-12-30T15:35:29.265306",
     "status": "completed"
    },
    "tags": []
   },
   "outputs": [
    {
     "data": {
      "text/plain": [
       "<AxesSubplot:>"
      ]
     },
     "execution_count": 10,
     "metadata": {},
     "output_type": "execute_result"
    },
    {
     "data": {
      "image/png": "[encoded data removed]",
      "text/plain": [
       "<Figure size 1080x720 with 2 Axes>"
      ]
     },
     "metadata": {
      "needs_background": "light"
     },
     "output_type": "display_data"
    }
   ],
   "source": [
    "# Show off the features with an absolute correlation more than 0.7\n",
    "corr = data.corr()\n",
    "corr_high = corr[np.abs(corr) >= .7]\n",
    "fig = plt.figure(figsize=(15, 10))\n",
    "sns.heatmap(corr_high, cmap='crest')"
   ]
  },
  {
   "cell_type": "code",
   "execution_count": 11,
   "id": "e4946e2c",
   "metadata": {
    "execution": {
     "iopub.execute_input": "2022-12-30T15:35:30.034835Z",
     "iopub.status.busy": "2022-12-30T15:35:30.033754Z",
     "iopub.status.idle": "2022-12-30T15:35:30.040515Z",
     "shell.execute_reply": "2022-12-30T15:35:30.039273Z"
    },
    "papermill": {
     "duration": 0.019436,
     "end_time": "2022-12-30T15:35:30.042828",
     "exception": false,
     "start_time": "2022-12-30T15:35:30.023392",
     "status": "completed"
    },
    "tags": []
   },
   "outputs": [],
   "source": [
    "# Drop correlated features\n",
    "data.drop(columns=['GarageArea', 'GrLivArea', 'GarageYrBlt'], inplace=True)"
   ]
  },
  {
   "cell_type": "markdown",
   "id": "8fd12be4",
   "metadata": {
    "papermill": {
     "duration": 0.009402,
     "end_time": "2022-12-30T15:35:30.061614",
     "exception": false,
     "start_time": "2022-12-30T15:35:30.052212",
     "status": "completed"
    },
    "tags": []
   },
   "source": [
    "# Treating Numerical/ Categorical data"
   ]
  },
  {
   "cell_type": "code",
   "execution_count": 12,
   "id": "3d1e6168",
   "metadata": {
    "execution": {
     "iopub.execute_input": "2022-12-30T15:35:30.082115Z",
     "iopub.status.busy": "2022-12-30T15:35:30.081713Z",
     "iopub.status.idle": "2022-12-30T15:35:30.092148Z",
     "shell.execute_reply": "2022-12-30T15:35:30.090358Z"
    },
    "papermill": {
     "duration": 0.023949,
     "end_time": "2022-12-30T15:35:30.094883",
     "exception": false,
     "start_time": "2022-12-30T15:35:30.070934",
     "status": "completed"
    },
    "tags": []
   },
   "outputs": [],
   "source": [
    "def get_features_type(features_type, data):\n",
    "    return data.select_dtypes(include=features_type)\n",
    "\n",
    "\n",
    "# Get the numerical features\n",
    "df_numeric = get_features_type(['int64', 'float64'], data)\n",
    "# Get the categorical features\n",
    "df_cat = get_features_type(['object'], data)"
   ]
  },
  {
   "cell_type": "code",
   "execution_count": 13,
   "id": "13ffa0f6",
   "metadata": {
    "execution": {
     "iopub.execute_input": "2022-12-30T15:35:30.114921Z",
     "iopub.status.busy": "2022-12-30T15:35:30.114563Z",
     "iopub.status.idle": "2022-12-30T15:35:30.156663Z",
     "shell.execute_reply": "2022-12-30T15:35:30.154968Z"
    },
    "papermill": {
     "duration": 0.054839,
     "end_time": "2022-12-30T15:35:30.158789",
     "exception": false,
     "start_time": "2022-12-30T15:35:30.103950",
     "status": "completed"
    },
    "tags": []
   },
   "outputs": [
    {
     "name": "stderr",
     "output_type": "stream",
     "text": [
      "/opt/conda/lib/python3.7/site-packages/ipykernel_launcher.py:6: FutureWarning: Dropping of nuisance columns in DataFrame reductions (with 'numeric_only=None') is deprecated; in a future version this will raise TypeError.  Select only valid columns before calling the reduction.\n",
      "  \n"
     ]
    }
   ],
   "source": [
    "# Drop the same features dropped earlier from the trainset\n",
    "test.drop(columns=['Id', 'Alley', 'Fence', 'PoolQC', 'MiscFeature', 'FireplaceQu'], \\\n",
    "          inplace=True)\n",
    "test.drop(columns=['GarageArea', 'GrLivArea', 'GarageYrBlt'], inplace=True)\n",
    "# fill missing data with mean \n",
    "test.fillna(test.mean())\n",
    "# Get the numerical features\n",
    "df_numeric_test = get_features_type(['int64', 'float64'], test)\n",
    "# Get the categorical features\n",
    "df_cat_test = get_features_type(['object'], test)\n",
    "# concat the train and test sets(the categorical features only)  with preserving the order of the rows\n",
    "trainTest = df_cat.append(df_cat_test)"
   ]
  },
  {
   "cell_type": "code",
   "execution_count": 14,
   "id": "ff932f45",
   "metadata": {
    "execution": {
     "iopub.execute_input": "2022-12-30T15:35:30.180026Z",
     "iopub.status.busy": "2022-12-30T15:35:30.179613Z",
     "iopub.status.idle": "2022-12-30T15:35:30.257240Z",
     "shell.execute_reply": "2022-12-30T15:35:30.255314Z"
    },
    "papermill": {
     "duration": 0.091212,
     "end_time": "2022-12-30T15:35:30.259649",
     "exception": false,
     "start_time": "2022-12-30T15:35:30.168437",
     "status": "completed"
    },
    "tags": []
   },
   "outputs": [],
   "source": [
    "# encoding labels:\n",
    "def encode_labels(data):\n",
    "    encoded_cat_train_set = data.copy()\n",
    "    for column in data.columns:\n",
    "        data[column] = data[column].astype('category')\n",
    "        encoded_cat_train_set[column] = data[column].cat.codes\n",
    "    return encoded_cat_train_set\n",
    "\n",
    "\n",
    "# encode the categorical data\n",
    "encoded_cat_train_set = encode_labels(trainTest)\n",
    "\n",
    "# split the trainTest set again\n",
    "df_cat = encoded_cat_train_set[:1460]\n",
    "df_cat_test = encoded_cat_train_set[1460:]"
   ]
  },
  {
   "cell_type": "code",
   "execution_count": 15,
   "id": "9bc7b994",
   "metadata": {
    "execution": {
     "iopub.execute_input": "2022-12-30T15:35:30.279942Z",
     "iopub.status.busy": "2022-12-30T15:35:30.279532Z",
     "iopub.status.idle": "2022-12-30T15:35:30.292003Z",
     "shell.execute_reply": "2022-12-30T15:35:30.290432Z"
    },
    "papermill": {
     "duration": 0.025894,
     "end_time": "2022-12-30T15:35:30.294839",
     "exception": false,
     "start_time": "2022-12-30T15:35:30.268945",
     "status": "completed"
    },
    "tags": []
   },
   "outputs": [],
   "source": [
    "# Scale numerical training data\n",
    "scaler = StandardScaler()\n",
    "scaled_numeric_train_set = scaler.fit_transform(df_numeric)\n",
    "\n",
    "df_numric = pd.DataFrame(scaled_numeric_train_set, columns=df_numeric.columns)"
   ]
  },
  {
   "cell_type": "code",
   "execution_count": 16,
   "id": "33265b2c",
   "metadata": {
    "execution": {
     "iopub.execute_input": "2022-12-30T15:35:30.315809Z",
     "iopub.status.busy": "2022-12-30T15:35:30.315345Z",
     "iopub.status.idle": "2022-12-30T15:35:30.343480Z",
     "shell.execute_reply": "2022-12-30T15:35:30.342160Z"
    },
    "papermill": {
     "duration": 0.041719,
     "end_time": "2022-12-30T15:35:30.345702",
     "exception": false,
     "start_time": "2022-12-30T15:35:30.303983",
     "status": "completed"
    },
    "tags": []
   },
   "outputs": [],
   "source": [
    "numColumns = df_numeric.columns\n",
    "\n",
    "# fill numeric nans\n",
    "imp = SimpleImputer(missing_values=np.nan, strategy='mean')\n",
    "df_numeric = imp.fit_transform(df_numeric)\n",
    "df_numeric = pd.DataFrame(df_numeric, columns=numColumns)\n",
    "\n",
    "# fill categoric nan\n",
    "catColumns = df_cat.columns\n",
    "imp = SimpleImputer(missing_values=np.nan, strategy='most_frequent')\n",
    "df_cat = imp.fit_transform(df_cat)\n",
    "df_cat = pd.DataFrame(df_cat, columns=catColumns)\n",
    "\n",
    "# Merge numercial and catgorical data\n",
    "train_set = pd.merge(df_numric,\n",
    "                     df_cat, left_index=True, right_index=True)\n",
    "X = train_set"
   ]
  },
  {
   "cell_type": "markdown",
   "id": "91774b2c",
   "metadata": {
    "papermill": {
     "duration": 0.008838,
     "end_time": "2022-12-30T15:35:30.363558",
     "exception": false,
     "start_time": "2022-12-30T15:35:30.354720",
     "status": "completed"
    },
    "tags": []
   },
   "source": [
    "# Model "
   ]
  },
  {
   "cell_type": "code",
   "execution_count": 17,
   "id": "42401ba0",
   "metadata": {
    "execution": {
     "iopub.execute_input": "2022-12-30T15:35:30.383266Z",
     "iopub.status.busy": "2022-12-30T15:35:30.382929Z",
     "iopub.status.idle": "2022-12-30T15:40:47.529136Z",
     "shell.execute_reply": "2022-12-30T15:40:47.527581Z"
    },
    "papermill": {
     "duration": 317.168294,
     "end_time": "2022-12-30T15:40:47.540831",
     "exception": false,
     "start_time": "2022-12-30T15:35:30.372537",
     "status": "completed"
    },
    "tags": []
   },
   "outputs": [
    {
     "name": "stdout",
     "output_type": "stream",
     "text": [
      "Fitting 3 folds for each of 200 candidates, totalling 600 fits\n"
     ]
    },
    {
     "data": {
      "text/plain": [
       "RandomizedSearchCV(cv=3,\n",
       "                   estimator=XGBRegressor(base_score=None, booster=None,\n",
       "                                          callbacks=None,\n",
       "                                          colsample_bylevel=None,\n",
       "                                          colsample_bynode=None,\n",
       "                                          colsample_bytree=None,\n",
       "                                          early_stopping_rounds=None,\n",
       "                                          enable_categorical=False,\n",
       "                                          eval_metric=None, gamma=None,\n",
       "                                          gpu_id=None, grow_policy=None,\n",
       "                                          importance_type=None,\n",
       "                                          interaction_constraints=None,\n",
       "                                          learning_rate=None, max_bin=None,\n",
       "                                          m...\n",
       "                                        'num_parallel_tree': <scipy.stats._distn_infrastructure.rv_frozen object at 0x7f46081fc410>,\n",
       "                                        'reg_alpha': <scipy.stats._distn_infrastructure.rv_frozen object at 0x7f46082a7e10>,\n",
       "                                        'reg_lambda': <scipy.stats._distn_infrastructure.rv_frozen object at 0x7f46211a2610>,\n",
       "                                        'subsample': <scipy.stats._distn_infrastructure.rv_frozen object at 0x7f46081fc110>},\n",
       "                   random_state=42, return_train_score=True, verbose=1)"
      ]
     },
     "execution_count": 17,
     "metadata": {},
     "output_type": "execute_result"
    }
   ],
   "source": [
    "xgb_model = xgb.XGBRegressor()\n",
    "params = {\n",
    "    \"colsample_bytree\": uniform(0.7, 0.3),\n",
    "    \"importance_type\": ['weight', 'gain', 'cover'],\n",
    "    \"gamma\": uniform(0, 0.5),\n",
    "    \"learning_rate\": uniform(0.03, 0.3),  # default 0.1 \n",
    "    \"max_depth\": randint(2, 6),  # default 3\n",
    "    \"n_estimators\": randint(100, 150),  # default 100\n",
    "    \"subsample\": uniform(0.6, 0.4),\n",
    "    \"num_parallel_tree\": randint(1, 5),\n",
    "    \"reg_lambda\": randint(0, 5),\n",
    "    \"reg_alpha\": randint(0, 5),\n",
    "\n",
    "}\n",
    "\n",
    "search = RandomizedSearchCV(xgb_model, \\\n",
    "                            param_distributions=params, \\\n",
    "                            random_state=42, \\\n",
    "                            n_iter=200, \\\n",
    "                            cv=3, \\\n",
    "                            verbose=1, \\\n",
    "                            n_jobs=1, \\\n",
    "                            return_train_score=True)\n",
    "\n",
    "search.fit(X, y)"
   ]
  },
  {
   "cell_type": "markdown",
   "id": "35202147",
   "metadata": {
    "papermill": {
     "duration": 0.009626,
     "end_time": "2022-12-30T15:40:47.560891",
     "exception": false,
     "start_time": "2022-12-30T15:40:47.551265",
     "status": "completed"
    },
    "tags": []
   },
   "source": [
    "# Prediction "
   ]
  },
  {
   "cell_type": "code",
   "execution_count": 18,
   "id": "e409dd2b",
   "metadata": {
    "execution": {
     "iopub.execute_input": "2022-12-30T15:40:47.583354Z",
     "iopub.status.busy": "2022-12-30T15:40:47.581912Z",
     "iopub.status.idle": "2022-12-30T15:40:47.609185Z",
     "shell.execute_reply": "2022-12-30T15:40:47.607673Z"
    },
    "papermill": {
     "duration": 0.041324,
     "end_time": "2022-12-30T15:40:47.611875",
     "exception": false,
     "start_time": "2022-12-30T15:40:47.570551",
     "status": "completed"
    },
    "tags": []
   },
   "outputs": [],
   "source": [
    "encoded_categoric_test_set = test\n",
    "scaled_numeric_test_set = scaler.transform(df_numeric_test)\n",
    "numeric_test_set = pd.DataFrame(scaled_numeric_test_set, \\\n",
    "                                columns=df_numeric.columns)\n",
    "# Merge numercial and catgorical data\n",
    "test_set = pd.merge(numeric_test_set,\n",
    "                    df_cat_test, left_index=True, right_index=True)\n",
    "test_set.fillna(test_set.mean(), inplace=True)\n",
    "Xtest = test_set[train_set.columns]"
   ]
  },
  {
   "cell_type": "code",
   "execution_count": 19,
   "id": "f1b098ed",
   "metadata": {
    "execution": {
     "iopub.execute_input": "2022-12-30T15:40:47.632945Z",
     "iopub.status.busy": "2022-12-30T15:40:47.632520Z",
     "iopub.status.idle": "2022-12-30T15:40:47.647924Z",
     "shell.execute_reply": "2022-12-30T15:40:47.647159Z"
    },
    "papermill": {
     "duration": 0.028884,
     "end_time": "2022-12-30T15:40:47.650351",
     "exception": false,
     "start_time": "2022-12-30T15:40:47.621467",
     "status": "completed"
    },
    "tags": []
   },
   "outputs": [],
   "source": [
    "y_predict = search.predict(Xtest)"
   ]
  },
  {
   "cell_type": "code",
   "execution_count": 20,
   "id": "cb6988e0",
   "metadata": {
    "execution": {
     "iopub.execute_input": "2022-12-30T15:40:47.670132Z",
     "iopub.status.busy": "2022-12-30T15:40:47.669821Z",
     "iopub.status.idle": "2022-12-30T15:40:47.687157Z",
     "shell.execute_reply": "2022-12-30T15:40:47.685617Z"
    },
    "papermill": {
     "duration": 0.03033,
     "end_time": "2022-12-30T15:40:47.689999",
     "exception": false,
     "start_time": "2022-12-30T15:40:47.659669",
     "status": "completed"
    },
    "tags": []
   },
   "outputs": [],
   "source": [
    "sample_submission = pd.read_csv('../input/house-prices-advanced-regression-techniques/sample_submission.csv')\n",
    "output = pd.DataFrame({'Id': sample_submission.Id, 'SalePrice': y_predict})\n",
    "output.to_csv('submission.csv', index=False)"
   ]
  },
  {
   "cell_type": "code",
   "execution_count": null,
   "id": "33f39575",
   "metadata": {
    "papermill": {
     "duration": 0.008964,
     "end_time": "2022-12-30T15:40:47.708409",
     "exception": false,
     "start_time": "2022-12-30T15:40:47.699445",
     "status": "completed"
    },
    "tags": []
   },
   "outputs": [],
   "source": []
  }
 ],
 "metadata": {
  "kernelspec": {
   "display_name": "Python 3",
   "language": "python",
   "name": "python3"
  },
  "language_info": {
   "codemirror_mode": {
    "name": "ipython",
    "version": 3
   },
   "file_extension": ".py",
   "mimetype": "text/x-python",
   "name": "python",
   "nbconvert_exporter": "python",
   "pygments_lexer": "ipython3",
   "version": "3.7.12"
  },
  "papermill": {
   "default_parameters": {},
   "duration": 330.728929,
   "end_time": "2022-12-30T15:40:48.641534",
   "environment_variables": {},
   "exception": null,
   "input_path": "__notebook__.ipynb",
   "output_path": "__notebook__.ipynb",
   "parameters": {},
   "start_time": "2022-12-30T15:35:17.912605",
   "version": "2.3.4"
  }
 },
 "nbformat": 4,
 "nbformat_minor": 5
}
